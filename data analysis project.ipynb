{
 "cells": [
  {
   "cell_type": "markdown",
   "metadata": {},
   "source": [
    "# House Pricing: Linear Regression\n"
   ]
  },
  {
   "cell_type": "markdown",
   "metadata": {},
   "source": [
    "## Introduction"
   ]
  },
  {
   "cell_type": "markdown",
   "metadata": {},
   "source": [
    "In this Project, we will apply Linear Regression model on kaggle 'House Pricing Dataset'.The Task is to predict house prices  using the provided features."
   ]
  },
  {
   "cell_type": "markdown",
   "metadata": {},
   "source": [
    "## Table of Contents\n",
    "\n",
    "<div class=\"alert alert-block alert-info\" style=\"margin-top: 20px\">\n",
    "\n",
    "<font size = 3>\n",
    "\n",
    "1. <a href=\"#item2\">Importing Packages</a>      \n",
    "2. <a href=\"#item3\"> Reading and exploring the data </a>     \n",
    "3. <a href=\"#item4\"> Cleaning the data and replacing missing values</a>   \n",
    "4. <a href=\"#item5\">Doing some visualization</a> \n",
    "5. <a href=\"#item5\">Generating new feautres</a>    \n",
    "6. <a href=\"#item6\">Processing correlated data and non-useful features </a>     \n",
    "7. <a href=\"#item7\">Builting Linear model,training the model and doing predictions on the test features</a> \n",
    "8. <a href=\"#item7\">Submission file </a> \n",
    "9. <a href=\"#item7\">Interpretation </a> \n",
    "10. <a href=\"#item7\">Conclusion</a> \n",
    "\n",
    "\n",
    "\n",
    "</font>\n",
    "</div>\n",
    "\n"
   ]
  },
  {
   "cell_type": "markdown",
   "metadata": {},
   "source": [
    "## Importing Packages"
   ]
  },
  {
   "cell_type": "code",
   "execution_count": 84,
   "metadata": {},
   "outputs": [],
   "source": [
    "# import Libraries\n",
    "import pandas as pd\n",
    "import numpy as np\n",
    "import seaborn as sns\n",
    "import matplotlib.pyplot as plt\n",
    "from sklearn.decomposition import PCA\n",
    "from sklearn.preprocessing import MinMaxScaler\n"
   ]
  },
  {
   "cell_type": "markdown",
   "metadata": {},
   "source": [
    "Since we will do some visualization,we imported Matplotlib."
   ]
  },
  {
   "cell_type": "markdown",
   "metadata": {},
   "source": [
    "## Reading and exploring  the data"
   ]
  },
  {
   "cell_type": "markdown",
   "metadata": {},
   "source": [
    "So, let's load the dataset from Kaggle. The dataset is already divided into a training set and a test set."
   ]
  },
  {
   "cell_type": "code",
   "execution_count": 85,
   "metadata": {},
   "outputs": [
    {
     "data": {
      "text/html": [
       "<div>\n",
       "<style scoped>\n",
       "    .dataframe tbody tr th:only-of-type {\n",
       "        vertical-align: middle;\n",
       "    }\n",
       "\n",
       "    .dataframe tbody tr th {\n",
       "        vertical-align: top;\n",
       "    }\n",
       "\n",
       "    .dataframe thead th {\n",
       "        text-align: right;\n",
       "    }\n",
       "</style>\n",
       "<table border=\"1\" class=\"dataframe\">\n",
       "  <thead>\n",
       "    <tr style=\"text-align: right;\">\n",
       "      <th></th>\n",
       "      <th>Id</th>\n",
       "      <th>MSSubClass</th>\n",
       "      <th>MSZoning</th>\n",
       "      <th>LotFrontage</th>\n",
       "      <th>LotArea</th>\n",
       "      <th>Street</th>\n",
       "      <th>Alley</th>\n",
       "      <th>LotShape</th>\n",
       "      <th>LandContour</th>\n",
       "      <th>Utilities</th>\n",
       "      <th>...</th>\n",
       "      <th>PoolArea</th>\n",
       "      <th>PoolQC</th>\n",
       "      <th>Fence</th>\n",
       "      <th>MiscFeature</th>\n",
       "      <th>MiscVal</th>\n",
       "      <th>MoSold</th>\n",
       "      <th>YrSold</th>\n",
       "      <th>SaleType</th>\n",
       "      <th>SaleCondition</th>\n",
       "      <th>SalePrice</th>\n",
       "    </tr>\n",
       "  </thead>\n",
       "  <tbody>\n",
       "    <tr>\n",
       "      <th>0</th>\n",
       "      <td>1</td>\n",
       "      <td>60</td>\n",
       "      <td>RL</td>\n",
       "      <td>65.0</td>\n",
       "      <td>8450</td>\n",
       "      <td>Pave</td>\n",
       "      <td>NaN</td>\n",
       "      <td>Reg</td>\n",
       "      <td>Lvl</td>\n",
       "      <td>AllPub</td>\n",
       "      <td>...</td>\n",
       "      <td>0</td>\n",
       "      <td>NaN</td>\n",
       "      <td>NaN</td>\n",
       "      <td>NaN</td>\n",
       "      <td>0</td>\n",
       "      <td>2</td>\n",
       "      <td>2008</td>\n",
       "      <td>WD</td>\n",
       "      <td>Normal</td>\n",
       "      <td>208500</td>\n",
       "    </tr>\n",
       "    <tr>\n",
       "      <th>1</th>\n",
       "      <td>2</td>\n",
       "      <td>20</td>\n",
       "      <td>RL</td>\n",
       "      <td>80.0</td>\n",
       "      <td>9600</td>\n",
       "      <td>Pave</td>\n",
       "      <td>NaN</td>\n",
       "      <td>Reg</td>\n",
       "      <td>Lvl</td>\n",
       "      <td>AllPub</td>\n",
       "      <td>...</td>\n",
       "      <td>0</td>\n",
       "      <td>NaN</td>\n",
       "      <td>NaN</td>\n",
       "      <td>NaN</td>\n",
       "      <td>0</td>\n",
       "      <td>5</td>\n",
       "      <td>2007</td>\n",
       "      <td>WD</td>\n",
       "      <td>Normal</td>\n",
       "      <td>181500</td>\n",
       "    </tr>\n",
       "    <tr>\n",
       "      <th>2</th>\n",
       "      <td>3</td>\n",
       "      <td>60</td>\n",
       "      <td>RL</td>\n",
       "      <td>68.0</td>\n",
       "      <td>11250</td>\n",
       "      <td>Pave</td>\n",
       "      <td>NaN</td>\n",
       "      <td>IR1</td>\n",
       "      <td>Lvl</td>\n",
       "      <td>AllPub</td>\n",
       "      <td>...</td>\n",
       "      <td>0</td>\n",
       "      <td>NaN</td>\n",
       "      <td>NaN</td>\n",
       "      <td>NaN</td>\n",
       "      <td>0</td>\n",
       "      <td>9</td>\n",
       "      <td>2008</td>\n",
       "      <td>WD</td>\n",
       "      <td>Normal</td>\n",
       "      <td>223500</td>\n",
       "    </tr>\n",
       "    <tr>\n",
       "      <th>3</th>\n",
       "      <td>4</td>\n",
       "      <td>70</td>\n",
       "      <td>RL</td>\n",
       "      <td>60.0</td>\n",
       "      <td>9550</td>\n",
       "      <td>Pave</td>\n",
       "      <td>NaN</td>\n",
       "      <td>IR1</td>\n",
       "      <td>Lvl</td>\n",
       "      <td>AllPub</td>\n",
       "      <td>...</td>\n",
       "      <td>0</td>\n",
       "      <td>NaN</td>\n",
       "      <td>NaN</td>\n",
       "      <td>NaN</td>\n",
       "      <td>0</td>\n",
       "      <td>2</td>\n",
       "      <td>2006</td>\n",
       "      <td>WD</td>\n",
       "      <td>Abnorml</td>\n",
       "      <td>140000</td>\n",
       "    </tr>\n",
       "    <tr>\n",
       "      <th>4</th>\n",
       "      <td>5</td>\n",
       "      <td>60</td>\n",
       "      <td>RL</td>\n",
       "      <td>84.0</td>\n",
       "      <td>14260</td>\n",
       "      <td>Pave</td>\n",
       "      <td>NaN</td>\n",
       "      <td>IR1</td>\n",
       "      <td>Lvl</td>\n",
       "      <td>AllPub</td>\n",
       "      <td>...</td>\n",
       "      <td>0</td>\n",
       "      <td>NaN</td>\n",
       "      <td>NaN</td>\n",
       "      <td>NaN</td>\n",
       "      <td>0</td>\n",
       "      <td>12</td>\n",
       "      <td>2008</td>\n",
       "      <td>WD</td>\n",
       "      <td>Normal</td>\n",
       "      <td>250000</td>\n",
       "    </tr>\n",
       "  </tbody>\n",
       "</table>\n",
       "<p>5 rows × 81 columns</p>\n",
       "</div>"
      ],
      "text/plain": [
       "   Id  MSSubClass MSZoning  LotFrontage  LotArea Street Alley LotShape  \\\n",
       "0   1          60       RL         65.0     8450   Pave   NaN      Reg   \n",
       "1   2          20       RL         80.0     9600   Pave   NaN      Reg   \n",
       "2   3          60       RL         68.0    11250   Pave   NaN      IR1   \n",
       "3   4          70       RL         60.0     9550   Pave   NaN      IR1   \n",
       "4   5          60       RL         84.0    14260   Pave   NaN      IR1   \n",
       "\n",
       "  LandContour Utilities    ...     PoolArea PoolQC Fence MiscFeature MiscVal  \\\n",
       "0         Lvl    AllPub    ...            0    NaN   NaN         NaN       0   \n",
       "1         Lvl    AllPub    ...            0    NaN   NaN         NaN       0   \n",
       "2         Lvl    AllPub    ...            0    NaN   NaN         NaN       0   \n",
       "3         Lvl    AllPub    ...            0    NaN   NaN         NaN       0   \n",
       "4         Lvl    AllPub    ...            0    NaN   NaN         NaN       0   \n",
       "\n",
       "  MoSold YrSold  SaleType  SaleCondition  SalePrice  \n",
       "0      2   2008        WD         Normal     208500  \n",
       "1      5   2007        WD         Normal     181500  \n",
       "2      9   2008        WD         Normal     223500  \n",
       "3      2   2006        WD        Abnorml     140000  \n",
       "4     12   2008        WD         Normal     250000  \n",
       "\n",
       "[5 rows x 81 columns]"
      ]
     },
     "execution_count": 85,
     "metadata": {},
     "output_type": "execute_result"
    }
   ],
   "source": [
    "#read data\n",
    "train = pd.read_csv('train.csv')\n",
    "test = pd.read_csv('test.csv')\n",
    "train.head()#show the five first line of the train"
   ]
  },
  {
   "cell_type": "markdown",
   "metadata": {},
   "source": [
    "As we see the train data is not clean.It contains many nan values."
   ]
  },
  {
   "cell_type": "markdown",
   "metadata": {},
   "source": [
    "Let's see the shape of our data."
   ]
  },
  {
   "cell_type": "code",
   "execution_count": 86,
   "metadata": {},
   "outputs": [
    {
     "name": "stdout",
     "output_type": "stream",
     "text": [
      "(1460, 81) (1459, 80)\n"
     ]
    }
   ],
   "source": [
    "#shape of the data\n",
    "print(train.shape, test.shape)"
   ]
  },
  {
   "cell_type": "markdown",
   "metadata": {},
   "source": [
    "The first number in the output tuple is the number of training examples(houses)and the second number is the size of features."
   ]
  },
  {
   "cell_type": "markdown",
   "metadata": {},
   "source": [
    "Now, let's dive into our data."
   ]
  },
  {
   "cell_type": "code",
   "execution_count": 87,
   "metadata": {},
   "outputs": [
    {
     "data": {
      "text/plain": [
       "Index(['Id', 'MSSubClass', 'MSZoning', 'LotFrontage', 'LotArea', 'Street',\n",
       "       'Alley', 'LotShape', 'LandContour', 'Utilities', 'LotConfig',\n",
       "       'LandSlope', 'Neighborhood', 'Condition1', 'Condition2', 'BldgType',\n",
       "       'HouseStyle', 'OverallQual', 'OverallCond', 'YearBuilt', 'YearRemodAdd',\n",
       "       'RoofStyle', 'RoofMatl', 'Exterior1st', 'Exterior2nd', 'MasVnrType',\n",
       "       'MasVnrArea', 'ExterQual', 'ExterCond', 'Foundation', 'BsmtQual',\n",
       "       'BsmtCond', 'BsmtExposure', 'BsmtFinType1', 'BsmtFinSF1',\n",
       "       'BsmtFinType2', 'BsmtFinSF2', 'BsmtUnfSF', 'TotalBsmtSF', 'Heating',\n",
       "       'HeatingQC', 'CentralAir', 'Electrical', '1stFlrSF', '2ndFlrSF',\n",
       "       'LowQualFinSF', 'GrLivArea', 'BsmtFullBath', 'BsmtHalfBath', 'FullBath',\n",
       "       'HalfBath', 'BedroomAbvGr', 'KitchenAbvGr', 'KitchenQual',\n",
       "       'TotRmsAbvGrd', 'Functional', 'Fireplaces', 'FireplaceQu', 'GarageType',\n",
       "       'GarageYrBlt', 'GarageFinish', 'GarageCars', 'GarageArea', 'GarageQual',\n",
       "       'GarageCond', 'PavedDrive', 'WoodDeckSF', 'OpenPorchSF',\n",
       "       'EnclosedPorch', '3SsnPorch', 'ScreenPorch', 'PoolArea', 'PoolQC',\n",
       "       'Fence', 'MiscFeature', 'MiscVal', 'MoSold', 'YrSold', 'SaleType',\n",
       "       'SaleCondition', 'SalePrice'],\n",
       "      dtype='object')"
      ]
     },
     "execution_count": 87,
     "metadata": {},
     "output_type": "execute_result"
    }
   ],
   "source": [
    "# check index of dataframe\n",
    "train.columns"
   ]
  },
  {
   "cell_type": "markdown",
   "metadata": {},
   "source": [
    "Here we can see what our features really are."
   ]
  },
  {
   "cell_type": "markdown",
   "metadata": {},
   "source": [
    "Now,let's see some statistics of the data."
   ]
  },
  {
   "cell_type": "code",
   "execution_count": 88,
   "metadata": {},
   "outputs": [
    {
     "data": {
      "text/html": [
       "<div>\n",
       "<style scoped>\n",
       "    .dataframe tbody tr th:only-of-type {\n",
       "        vertical-align: middle;\n",
       "    }\n",
       "\n",
       "    .dataframe tbody tr th {\n",
       "        vertical-align: top;\n",
       "    }\n",
       "\n",
       "    .dataframe thead th {\n",
       "        text-align: right;\n",
       "    }\n",
       "</style>\n",
       "<table border=\"1\" class=\"dataframe\">\n",
       "  <thead>\n",
       "    <tr style=\"text-align: right;\">\n",
       "      <th></th>\n",
       "      <th>Id</th>\n",
       "      <th>MSSubClass</th>\n",
       "      <th>LotFrontage</th>\n",
       "      <th>LotArea</th>\n",
       "      <th>OverallQual</th>\n",
       "      <th>OverallCond</th>\n",
       "      <th>YearBuilt</th>\n",
       "      <th>YearRemodAdd</th>\n",
       "      <th>MasVnrArea</th>\n",
       "      <th>BsmtFinSF1</th>\n",
       "      <th>...</th>\n",
       "      <th>GarageArea</th>\n",
       "      <th>WoodDeckSF</th>\n",
       "      <th>OpenPorchSF</th>\n",
       "      <th>EnclosedPorch</th>\n",
       "      <th>3SsnPorch</th>\n",
       "      <th>ScreenPorch</th>\n",
       "      <th>PoolArea</th>\n",
       "      <th>MiscVal</th>\n",
       "      <th>MoSold</th>\n",
       "      <th>YrSold</th>\n",
       "    </tr>\n",
       "  </thead>\n",
       "  <tbody>\n",
       "    <tr>\n",
       "      <th>count</th>\n",
       "      <td>1459.000000</td>\n",
       "      <td>1459.000000</td>\n",
       "      <td>1232.000000</td>\n",
       "      <td>1459.000000</td>\n",
       "      <td>1459.000000</td>\n",
       "      <td>1459.000000</td>\n",
       "      <td>1459.000000</td>\n",
       "      <td>1459.000000</td>\n",
       "      <td>1444.000000</td>\n",
       "      <td>1458.000000</td>\n",
       "      <td>...</td>\n",
       "      <td>1458.000000</td>\n",
       "      <td>1459.000000</td>\n",
       "      <td>1459.000000</td>\n",
       "      <td>1459.000000</td>\n",
       "      <td>1459.000000</td>\n",
       "      <td>1459.000000</td>\n",
       "      <td>1459.000000</td>\n",
       "      <td>1459.000000</td>\n",
       "      <td>1459.000000</td>\n",
       "      <td>1459.000000</td>\n",
       "    </tr>\n",
       "    <tr>\n",
       "      <th>mean</th>\n",
       "      <td>2190.000000</td>\n",
       "      <td>57.378341</td>\n",
       "      <td>68.580357</td>\n",
       "      <td>9819.161069</td>\n",
       "      <td>6.078821</td>\n",
       "      <td>5.553804</td>\n",
       "      <td>1971.357779</td>\n",
       "      <td>1983.662783</td>\n",
       "      <td>100.709141</td>\n",
       "      <td>439.203704</td>\n",
       "      <td>...</td>\n",
       "      <td>472.768861</td>\n",
       "      <td>93.174777</td>\n",
       "      <td>48.313914</td>\n",
       "      <td>24.243317</td>\n",
       "      <td>1.794380</td>\n",
       "      <td>17.064428</td>\n",
       "      <td>1.744345</td>\n",
       "      <td>58.167923</td>\n",
       "      <td>6.104181</td>\n",
       "      <td>2007.769705</td>\n",
       "    </tr>\n",
       "    <tr>\n",
       "      <th>std</th>\n",
       "      <td>421.321334</td>\n",
       "      <td>42.746880</td>\n",
       "      <td>22.376841</td>\n",
       "      <td>4955.517327</td>\n",
       "      <td>1.436812</td>\n",
       "      <td>1.113740</td>\n",
       "      <td>30.390071</td>\n",
       "      <td>21.130467</td>\n",
       "      <td>177.625900</td>\n",
       "      <td>455.268042</td>\n",
       "      <td>...</td>\n",
       "      <td>217.048611</td>\n",
       "      <td>127.744882</td>\n",
       "      <td>68.883364</td>\n",
       "      <td>67.227765</td>\n",
       "      <td>20.207842</td>\n",
       "      <td>56.609763</td>\n",
       "      <td>30.491646</td>\n",
       "      <td>630.806978</td>\n",
       "      <td>2.722432</td>\n",
       "      <td>1.301740</td>\n",
       "    </tr>\n",
       "    <tr>\n",
       "      <th>min</th>\n",
       "      <td>1461.000000</td>\n",
       "      <td>20.000000</td>\n",
       "      <td>21.000000</td>\n",
       "      <td>1470.000000</td>\n",
       "      <td>1.000000</td>\n",
       "      <td>1.000000</td>\n",
       "      <td>1879.000000</td>\n",
       "      <td>1950.000000</td>\n",
       "      <td>0.000000</td>\n",
       "      <td>0.000000</td>\n",
       "      <td>...</td>\n",
       "      <td>0.000000</td>\n",
       "      <td>0.000000</td>\n",
       "      <td>0.000000</td>\n",
       "      <td>0.000000</td>\n",
       "      <td>0.000000</td>\n",
       "      <td>0.000000</td>\n",
       "      <td>0.000000</td>\n",
       "      <td>0.000000</td>\n",
       "      <td>1.000000</td>\n",
       "      <td>2006.000000</td>\n",
       "    </tr>\n",
       "    <tr>\n",
       "      <th>25%</th>\n",
       "      <td>1825.500000</td>\n",
       "      <td>20.000000</td>\n",
       "      <td>58.000000</td>\n",
       "      <td>7391.000000</td>\n",
       "      <td>5.000000</td>\n",
       "      <td>5.000000</td>\n",
       "      <td>1953.000000</td>\n",
       "      <td>1963.000000</td>\n",
       "      <td>0.000000</td>\n",
       "      <td>0.000000</td>\n",
       "      <td>...</td>\n",
       "      <td>318.000000</td>\n",
       "      <td>0.000000</td>\n",
       "      <td>0.000000</td>\n",
       "      <td>0.000000</td>\n",
       "      <td>0.000000</td>\n",
       "      <td>0.000000</td>\n",
       "      <td>0.000000</td>\n",
       "      <td>0.000000</td>\n",
       "      <td>4.000000</td>\n",
       "      <td>2007.000000</td>\n",
       "    </tr>\n",
       "    <tr>\n",
       "      <th>50%</th>\n",
       "      <td>2190.000000</td>\n",
       "      <td>50.000000</td>\n",
       "      <td>67.000000</td>\n",
       "      <td>9399.000000</td>\n",
       "      <td>6.000000</td>\n",
       "      <td>5.000000</td>\n",
       "      <td>1973.000000</td>\n",
       "      <td>1992.000000</td>\n",
       "      <td>0.000000</td>\n",
       "      <td>350.500000</td>\n",
       "      <td>...</td>\n",
       "      <td>480.000000</td>\n",
       "      <td>0.000000</td>\n",
       "      <td>28.000000</td>\n",
       "      <td>0.000000</td>\n",
       "      <td>0.000000</td>\n",
       "      <td>0.000000</td>\n",
       "      <td>0.000000</td>\n",
       "      <td>0.000000</td>\n",
       "      <td>6.000000</td>\n",
       "      <td>2008.000000</td>\n",
       "    </tr>\n",
       "    <tr>\n",
       "      <th>75%</th>\n",
       "      <td>2554.500000</td>\n",
       "      <td>70.000000</td>\n",
       "      <td>80.000000</td>\n",
       "      <td>11517.500000</td>\n",
       "      <td>7.000000</td>\n",
       "      <td>6.000000</td>\n",
       "      <td>2001.000000</td>\n",
       "      <td>2004.000000</td>\n",
       "      <td>164.000000</td>\n",
       "      <td>753.500000</td>\n",
       "      <td>...</td>\n",
       "      <td>576.000000</td>\n",
       "      <td>168.000000</td>\n",
       "      <td>72.000000</td>\n",
       "      <td>0.000000</td>\n",
       "      <td>0.000000</td>\n",
       "      <td>0.000000</td>\n",
       "      <td>0.000000</td>\n",
       "      <td>0.000000</td>\n",
       "      <td>8.000000</td>\n",
       "      <td>2009.000000</td>\n",
       "    </tr>\n",
       "    <tr>\n",
       "      <th>max</th>\n",
       "      <td>2919.000000</td>\n",
       "      <td>190.000000</td>\n",
       "      <td>200.000000</td>\n",
       "      <td>56600.000000</td>\n",
       "      <td>10.000000</td>\n",
       "      <td>9.000000</td>\n",
       "      <td>2010.000000</td>\n",
       "      <td>2010.000000</td>\n",
       "      <td>1290.000000</td>\n",
       "      <td>4010.000000</td>\n",
       "      <td>...</td>\n",
       "      <td>1488.000000</td>\n",
       "      <td>1424.000000</td>\n",
       "      <td>742.000000</td>\n",
       "      <td>1012.000000</td>\n",
       "      <td>360.000000</td>\n",
       "      <td>576.000000</td>\n",
       "      <td>800.000000</td>\n",
       "      <td>17000.000000</td>\n",
       "      <td>12.000000</td>\n",
       "      <td>2010.000000</td>\n",
       "    </tr>\n",
       "  </tbody>\n",
       "</table>\n",
       "<p>8 rows × 37 columns</p>\n",
       "</div>"
      ],
      "text/plain": [
       "                Id   MSSubClass  LotFrontage       LotArea  OverallQual  \\\n",
       "count  1459.000000  1459.000000  1232.000000   1459.000000  1459.000000   \n",
       "mean   2190.000000    57.378341    68.580357   9819.161069     6.078821   \n",
       "std     421.321334    42.746880    22.376841   4955.517327     1.436812   \n",
       "min    1461.000000    20.000000    21.000000   1470.000000     1.000000   \n",
       "25%    1825.500000    20.000000    58.000000   7391.000000     5.000000   \n",
       "50%    2190.000000    50.000000    67.000000   9399.000000     6.000000   \n",
       "75%    2554.500000    70.000000    80.000000  11517.500000     7.000000   \n",
       "max    2919.000000   190.000000   200.000000  56600.000000    10.000000   \n",
       "\n",
       "       OverallCond    YearBuilt  YearRemodAdd   MasVnrArea   BsmtFinSF1  \\\n",
       "count  1459.000000  1459.000000   1459.000000  1444.000000  1458.000000   \n",
       "mean      5.553804  1971.357779   1983.662783   100.709141   439.203704   \n",
       "std       1.113740    30.390071     21.130467   177.625900   455.268042   \n",
       "min       1.000000  1879.000000   1950.000000     0.000000     0.000000   \n",
       "25%       5.000000  1953.000000   1963.000000     0.000000     0.000000   \n",
       "50%       5.000000  1973.000000   1992.000000     0.000000   350.500000   \n",
       "75%       6.000000  2001.000000   2004.000000   164.000000   753.500000   \n",
       "max       9.000000  2010.000000   2010.000000  1290.000000  4010.000000   \n",
       "\n",
       "          ...        GarageArea   WoodDeckSF  OpenPorchSF  EnclosedPorch  \\\n",
       "count     ...       1458.000000  1459.000000  1459.000000    1459.000000   \n",
       "mean      ...        472.768861    93.174777    48.313914      24.243317   \n",
       "std       ...        217.048611   127.744882    68.883364      67.227765   \n",
       "min       ...          0.000000     0.000000     0.000000       0.000000   \n",
       "25%       ...        318.000000     0.000000     0.000000       0.000000   \n",
       "50%       ...        480.000000     0.000000    28.000000       0.000000   \n",
       "75%       ...        576.000000   168.000000    72.000000       0.000000   \n",
       "max       ...       1488.000000  1424.000000   742.000000    1012.000000   \n",
       "\n",
       "         3SsnPorch  ScreenPorch     PoolArea       MiscVal       MoSold  \\\n",
       "count  1459.000000  1459.000000  1459.000000   1459.000000  1459.000000   \n",
       "mean      1.794380    17.064428     1.744345     58.167923     6.104181   \n",
       "std      20.207842    56.609763    30.491646    630.806978     2.722432   \n",
       "min       0.000000     0.000000     0.000000      0.000000     1.000000   \n",
       "25%       0.000000     0.000000     0.000000      0.000000     4.000000   \n",
       "50%       0.000000     0.000000     0.000000      0.000000     6.000000   \n",
       "75%       0.000000     0.000000     0.000000      0.000000     8.000000   \n",
       "max     360.000000   576.000000   800.000000  17000.000000    12.000000   \n",
       "\n",
       "            YrSold  \n",
       "count  1459.000000  \n",
       "mean   2007.769705  \n",
       "std       1.301740  \n",
       "min    2006.000000  \n",
       "25%    2007.000000  \n",
       "50%    2008.000000  \n",
       "75%    2009.000000  \n",
       "max    2010.000000  \n",
       "\n",
       "[8 rows x 37 columns]"
      ]
     },
     "execution_count": 88,
     "metadata": {},
     "output_type": "execute_result"
    }
   ],
   "source": [
    "# Describe Stastistics Data\n",
    "train.describe()\n",
    "test.describe()"
   ]
  },
  {
   "cell_type": "markdown",
   "metadata": {},
   "source": [
    "the dataframe.describe() generate descriptive statistics that summarize the central tendency, dispersion and shape of a dataset’s distribution, excluding nan values.\n",
    "\n",
    "#### count:\n",
    "Count number of non-NAN observations.\n",
    "#### mean:\n",
    "Mean of the values.\n",
    "#### std:\n",
    "Standard deviation of the obersvations.\n",
    "#### min:\n",
    "Minimum of the values in the object.\n",
    "#### max:\n",
    "Maximum of the values in the object."
   ]
  },
  {
   "cell_type": "markdown",
   "metadata": {},
   "source": [
    "Now,let's see the variance of our target variables:SalePrice"
   ]
  },
  {
   "cell_type": "code",
   "execution_count": 9,
   "metadata": {},
   "outputs": [
    {
     "data": {
      "text/plain": [
       "<matplotlib.axes._subplots.AxesSubplot at 0xbf20ef0>"
      ]
     },
     "execution_count": 9,
     "metadata": {},
     "output_type": "execute_result"
    },
    {
     "data": {
      "image/png": "[encoded data removed]",
      "text/plain": [
       "<Figure size 432x288 with 1 Axes>"
      ]
     },
     "metadata": {
      "needs_background": "light"
     },
     "output_type": "display_data"
    }
   ],
   "source": [
    "#PLot Histogram for 'SalePrice'\n",
    "sns.distplot(train['SalePrice'])\n"
   ]
  },
  {
   "cell_type": "markdown",
   "metadata": {},
   "source": [
    "As we see the majority of the prices are around 200000."
   ]
  },
  {
   "cell_type": "markdown",
   "metadata": {},
   "source": [
    "# Cleaning the data and replacing missing values"
   ]
  },
  {
   "cell_type": "markdown",
   "metadata": {},
   "source": [
    "We will start by spliting data into predictors and target. we have to drop the Id from both train and test samples."
   ]
  },
  {
   "cell_type": "code",
   "execution_count": 89,
   "metadata": {},
   "outputs": [],
   "source": [
    "#drop the Id and the target variable from train feautres and test feautres\n",
    "train_features = train.drop(['Id','SalePrice'],axis=1)\n",
    "target = 'SalePrice' \n",
    "test_features=test.drop(['Id'],axis=1) "
   ]
  },
  {
   "cell_type": "markdown",
   "metadata": {},
   "source": [
    "In this step, we will count the nan values on each columns."
   ]
  },
  {
   "cell_type": "code",
   "execution_count": 90,
   "metadata": {},
   "outputs": [
    {
     "name": "stdout",
     "output_type": "stream",
     "text": [
      "MSSubClass          0\n",
      "MSZoning            0\n",
      "LotFrontage       259\n",
      "LotArea             0\n",
      "Street              0\n",
      "Alley            1369\n",
      "LotShape            0\n",
      "LandContour         0\n",
      "Utilities           0\n",
      "LotConfig           0\n",
      "LandSlope           0\n",
      "Neighborhood        0\n",
      "Condition1          0\n",
      "Condition2          0\n",
      "BldgType            0\n",
      "HouseStyle          0\n",
      "OverallQual         0\n",
      "OverallCond         0\n",
      "YearBuilt           0\n",
      "YearRemodAdd        0\n",
      "RoofStyle           0\n",
      "RoofMatl            0\n",
      "Exterior1st         0\n",
      "Exterior2nd         0\n",
      "MasVnrType          8\n",
      "MasVnrArea          8\n",
      "ExterQual           0\n",
      "ExterCond           0\n",
      "Foundation          0\n",
      "BsmtQual           37\n",
      "                 ... \n",
      "HalfBath            0\n",
      "BedroomAbvGr        0\n",
      "KitchenAbvGr        0\n",
      "KitchenQual         0\n",
      "TotRmsAbvGrd        0\n",
      "Functional          0\n",
      "Fireplaces          0\n",
      "FireplaceQu       690\n",
      "GarageType         81\n",
      "GarageYrBlt        81\n",
      "GarageFinish       81\n",
      "GarageCars          0\n",
      "GarageArea          0\n",
      "GarageQual         81\n",
      "GarageCond         81\n",
      "PavedDrive          0\n",
      "WoodDeckSF          0\n",
      "OpenPorchSF         0\n",
      "EnclosedPorch       0\n",
      "3SsnPorch           0\n",
      "ScreenPorch         0\n",
      "PoolArea            0\n",
      "PoolQC           1453\n",
      "Fence            1179\n",
      "MiscFeature      1406\n",
      "MiscVal             0\n",
      "MoSold              0\n",
      "YrSold              0\n",
      "SaleType            0\n",
      "SaleCondition       0\n",
      "Length: 79, dtype: int64\n",
      "passage au from the train to the test\n",
      "MSSubClass          0\n",
      "MSZoning            4\n",
      "LotFrontage       227\n",
      "LotArea             0\n",
      "Street              0\n",
      "Alley            1352\n",
      "LotShape            0\n",
      "LandContour         0\n",
      "Utilities           2\n",
      "LotConfig           0\n",
      "LandSlope           0\n",
      "Neighborhood        0\n",
      "Condition1          0\n",
      "Condition2          0\n",
      "BldgType            0\n",
      "HouseStyle          0\n",
      "OverallQual         0\n",
      "OverallCond         0\n",
      "YearBuilt           0\n",
      "YearRemodAdd        0\n",
      "RoofStyle           0\n",
      "RoofMatl            0\n",
      "Exterior1st         1\n",
      "Exterior2nd         1\n",
      "MasVnrType         16\n",
      "MasVnrArea         15\n",
      "ExterQual           0\n",
      "ExterCond           0\n",
      "Foundation          0\n",
      "BsmtQual           44\n",
      "                 ... \n",
      "HalfBath            0\n",
      "BedroomAbvGr        0\n",
      "KitchenAbvGr        0\n",
      "KitchenQual         1\n",
      "TotRmsAbvGrd        0\n",
      "Functional          2\n",
      "Fireplaces          0\n",
      "FireplaceQu       730\n",
      "GarageType         76\n",
      "GarageYrBlt        78\n",
      "GarageFinish       78\n",
      "GarageCars          1\n",
      "GarageArea          1\n",
      "GarageQual         78\n",
      "GarageCond         78\n",
      "PavedDrive          0\n",
      "WoodDeckSF          0\n",
      "OpenPorchSF         0\n",
      "EnclosedPorch       0\n",
      "3SsnPorch           0\n",
      "ScreenPorch         0\n",
      "PoolArea            0\n",
      "PoolQC           1456\n",
      "Fence            1169\n",
      "MiscFeature      1408\n",
      "MiscVal             0\n",
      "MoSold              0\n",
      "YrSold              0\n",
      "SaleType            1\n",
      "SaleCondition       0\n",
      "Length: 79, dtype: int64\n"
     ]
    }
   ],
   "source": [
    "# determine the nan values on our train set and test set.\n",
    "\n",
    "A=train_features.isnull().sum()    \n",
    "B=test_features.isnull().sum() \n",
    "print(A)\n",
    "print('passage au from the train to the test')\n",
    "print(B)\n",
    "\n"
   ]
  },
  {
   "cell_type": "markdown",
   "metadata": {},
   "source": [
    "Now ,we will track nan values."
   ]
  },
  {
   "cell_type": "code",
   "execution_count": 91,
   "metadata": {},
   "outputs": [
    {
     "name": "stdout",
     "output_type": "stream",
     "text": [
      "the location of the nan values and their number in the train example are\n",
      "LotFrontage      259\n",
      "Alley           1369\n",
      "MasVnrType         8\n",
      "MasVnrArea         8\n",
      "BsmtQual          37\n",
      "BsmtCond          37\n",
      "BsmtExposure      38\n",
      "BsmtFinType1      37\n",
      "BsmtFinType2      38\n",
      "Electrical         1\n",
      "FireplaceQu      690\n",
      "GarageType        81\n",
      "GarageYrBlt       81\n",
      "GarageFinish      81\n",
      "GarageQual        81\n",
      "GarageCond        81\n",
      "PoolQC          1453\n",
      "Fence           1179\n",
      "MiscFeature     1406\n",
      "dtype: int64\n",
      "the location of the nan values and their number in the test example are\n",
      "MSZoning           4\n",
      "LotFrontage      227\n",
      "Alley           1352\n",
      "Utilities          2\n",
      "Exterior1st        1\n",
      "Exterior2nd        1\n",
      "MasVnrType        16\n",
      "MasVnrArea        15\n",
      "BsmtQual          44\n",
      "BsmtCond          45\n",
      "BsmtExposure      44\n",
      "BsmtFinType1      42\n",
      "BsmtFinSF1         1\n",
      "BsmtFinType2      42\n",
      "BsmtFinSF2         1\n",
      "BsmtUnfSF          1\n",
      "TotalBsmtSF        1\n",
      "BsmtFullBath       2\n",
      "BsmtHalfBath       2\n",
      "KitchenQual        1\n",
      "Functional         2\n",
      "FireplaceQu      730\n",
      "GarageType        76\n",
      "GarageYrBlt       78\n",
      "GarageFinish      78\n",
      "GarageCars         1\n",
      "GarageArea         1\n",
      "GarageQual        78\n",
      "GarageCond        78\n",
      "PoolQC          1456\n",
      "Fence           1169\n",
      "MiscFeature     1408\n",
      "SaleType           1\n",
      "dtype: int64\n"
     ]
    }
   ],
   "source": [
    "#vizualize just the features that have nan values \n",
    "k= len(A)\n",
    "i=0\n",
    "while (k>19) :\n",
    "    if (A[i]==0):\n",
    "         A=A.drop([A.index[i]])\n",
    "         k= len(A)\n",
    "         i=0\n",
    "    else:\n",
    "        i=i+1\n",
    "\n",
    "k= len(B)\n",
    "i=0\n",
    "while (k>33) :\n",
    "    if (B[i]==0):\n",
    "         B=B.drop([B.index[i]])\n",
    "         k= len(B)\n",
    "         i=0\n",
    "    else:\n",
    "        i=i+1\n",
    "print('the location of the nan values and their number in the train example are')           \n",
    "print(A)\n",
    "print('the location of the nan values and their number in the test example are')\n",
    "print(B)"
   ]
  },
  {
   "cell_type": "markdown",
   "metadata": {},
   "source": [
    "#### We will drop the features which are nan in almost all the samples :\n",
    "\n",
    "PoolQC:          1456\n",
    "\n",
    "Fence  :         1169\n",
    "\n",
    "MiscFeature  :   1408\n",
    "\n",
    "Alley    :       1369\n"
   ]
  },
  {
   "cell_type": "code",
   "execution_count": 92,
   "metadata": {},
   "outputs": [],
   "source": [
    "#according to the  result that we obtained we will drop the feautres whish are nan in almost all the samples.\n",
    "train_features = train_features.drop(['Alley','PoolQC','Fence','MiscFeature'],axis=1)\n",
    "test_features=test_features.drop(['Alley','PoolQC','Fence','MiscFeature'],axis=1)\n"
   ]
  },
  {
   "cell_type": "markdown",
   "metadata": {},
   "source": [
    "In this step,we will replace missing numerical variables by the corresponding mean ."
   ]
  },
  {
   "cell_type": "code",
   "execution_count": 93,
   "metadata": {},
   "outputs": [],
   "source": [
    "#replace nan value in numerical features by the mean of the coloumn\n",
    "train_features=train_features.fillna(train.mean())\n",
    "test_features=test_features.fillna(test.mean())"
   ]
  },
  {
   "cell_type": "markdown",
   "metadata": {},
   "source": [
    "#### Dealing with categorical variables:\n",
    "in the following code we will replace categorical missing values by the most frequent corresponding value."
   ]
  },
  {
   "cell_type": "code",
   "execution_count": 94,
   "metadata": {},
   "outputs": [
    {
     "name": "stdout",
     "output_type": "stream",
     "text": [
      "Pave    1454\n",
      "Grvl       6\n",
      "Name: Street, dtype: int64\n",
      "RL         1151\n",
      "RM          218\n",
      "FV           65\n",
      "RH           16\n",
      "C (all)      10\n",
      "Name: MSZoning, dtype: int64\n",
      "Norm      1260\n",
      "Feedr       81\n",
      "Artery      48\n",
      "RRAn        26\n",
      "PosN        19\n",
      "RRAe        11\n",
      "PosA         8\n",
      "RRNn         5\n",
      "RRNe         2\n",
      "Name: Condition1, dtype: int64\n",
      "Norm      1445\n",
      "Feedr        6\n",
      "Artery       2\n",
      "PosN         2\n",
      "RRNn         2\n",
      "PosA         1\n",
      "RRAe         1\n",
      "RRAn         1\n",
      "Name: Condition2, dtype: int64\n",
      "1Fam      1220\n",
      "TwnhsE     114\n",
      "Duplex      52\n",
      "Twnhs       43\n",
      "2fmCon      31\n",
      "Name: BldgType, dtype: int64\n",
      "Lvl    1311\n",
      "Bnk      63\n",
      "HLS      50\n",
      "Low      36\n",
      "Name: LandContour, dtype: int64\n",
      "Reg    925\n",
      "IR1    484\n",
      "IR2     41\n",
      "IR3     10\n",
      "Name: LotShape, dtype: int64\n",
      "AllPub    1459\n",
      "NoSeWa       1\n",
      "Name: Utilities, dtype: int64\n",
      "Inside     1052\n",
      "Corner      263\n",
      "CulDSac      94\n",
      "FR2          47\n",
      "FR3           4\n",
      "Name: LotConfig, dtype: int64\n",
      "Gtl    1382\n",
      "Mod      65\n",
      "Sev      13\n",
      "Name: LandSlope, dtype: int64\n",
      "NAmes      225\n",
      "CollgCr    150\n",
      "OldTown    113\n",
      "Edwards    100\n",
      "Somerst     86\n",
      "Gilbert     79\n",
      "NridgHt     77\n",
      "Sawyer      74\n",
      "NWAmes      73\n",
      "SawyerW     59\n",
      "BrkSide     58\n",
      "Crawfor     51\n",
      "Mitchel     49\n",
      "NoRidge     41\n",
      "Timber      38\n",
      "IDOTRR      37\n",
      "ClearCr     28\n",
      "SWISU       25\n",
      "StoneBr     25\n",
      "Blmngtn     17\n",
      "MeadowV     17\n",
      "BrDale      16\n",
      "Veenker     11\n",
      "NPkVill      9\n",
      "Blueste      2\n",
      "Name: Neighborhood, dtype: int64\n",
      "1Story    726\n",
      "2Story    445\n",
      "1.5Fin    154\n",
      "SLvl       65\n",
      "SFoyer     37\n",
      "1.5Unf     14\n",
      "2.5Unf     11\n",
      "2.5Fin      8\n",
      "Name: HouseStyle, dtype: int64\n",
      "Gable      1141\n",
      "Hip         286\n",
      "Flat         13\n",
      "Gambrel      11\n",
      "Mansard       7\n",
      "Shed          2\n",
      "Name: RoofStyle, dtype: int64\n",
      "CompShg    1434\n",
      "Tar&Grv      11\n",
      "WdShngl       6\n",
      "WdShake       5\n",
      "Roll          1\n",
      "ClyTile       1\n",
      "Metal         1\n",
      "Membran       1\n",
      "Name: RoofMatl, dtype: int64\n",
      "VinylSd    515\n",
      "HdBoard    222\n",
      "MetalSd    220\n",
      "Wd Sdng    206\n",
      "Plywood    108\n",
      "CemntBd     61\n",
      "BrkFace     50\n",
      "WdShing     26\n",
      "Stucco      25\n",
      "AsbShng     20\n",
      "Stone        2\n",
      "BrkComm      2\n",
      "ImStucc      1\n",
      "AsphShn      1\n",
      "CBlock       1\n",
      "Name: Exterior1st, dtype: int64\n",
      "VinylSd    504\n",
      "MetalSd    214\n",
      "HdBoard    207\n",
      "Wd Sdng    197\n",
      "Plywood    142\n",
      "CmentBd     60\n",
      "Wd Shng     38\n",
      "Stucco      26\n",
      "BrkFace     25\n",
      "AsbShng     20\n",
      "ImStucc     10\n",
      "Brk Cmn      7\n",
      "Stone        5\n",
      "AsphShn      3\n",
      "Other        1\n",
      "CBlock       1\n",
      "Name: Exterior2nd, dtype: int64\n",
      "None       864\n",
      "BrkFace    445\n",
      "Stone      128\n",
      "BrkCmn      15\n",
      "Name: MasVnrType, dtype: int64\n",
      "TA    906\n",
      "Gd    488\n",
      "Ex     52\n",
      "Fa     14\n",
      "Name: ExterQual, dtype: int64\n",
      "TA    1282\n",
      "Gd     146\n",
      "Fa      28\n",
      "Ex       3\n",
      "Po       1\n",
      "Name: ExterCond, dtype: int64\n",
      "PConc     647\n",
      "CBlock    634\n",
      "BrkTil    146\n",
      "Slab       24\n",
      "Stone       6\n",
      "Wood        3\n",
      "Name: Foundation, dtype: int64\n",
      "TA    649\n",
      "Gd    618\n",
      "Ex    121\n",
      "Fa     35\n",
      "Name: BsmtQual, dtype: int64\n",
      "TA    1311\n",
      "Gd      65\n",
      "Fa      45\n",
      "Po       2\n",
      "Name: BsmtCond, dtype: int64\n",
      "No    953\n",
      "Av    221\n",
      "Gd    134\n",
      "Mn    114\n",
      "Name: BsmtExposure, dtype: int64\n",
      "Unf    430\n",
      "GLQ    418\n",
      "ALQ    220\n",
      "BLQ    148\n",
      "Rec    133\n",
      "LwQ     74\n",
      "Name: BsmtFinType1, dtype: int64\n",
      "Unf    1256\n",
      "Rec      54\n",
      "LwQ      46\n",
      "BLQ      33\n",
      "ALQ      19\n",
      "GLQ      14\n",
      "Name: BsmtFinType2, dtype: int64\n",
      "GasA     1428\n",
      "GasW       18\n",
      "Grav        7\n",
      "Wall        4\n",
      "OthW        2\n",
      "Floor       1\n",
      "Name: Heating, dtype: int64\n",
      "Ex    741\n",
      "TA    428\n",
      "Gd    241\n",
      "Fa     49\n",
      "Po      1\n",
      "Name: HeatingQC, dtype: int64\n",
      "Y    1365\n",
      "N      95\n",
      "Name: CentralAir, dtype: int64\n",
      "SBrkr    1334\n",
      "FuseA      94\n",
      "FuseF      27\n",
      "FuseP       3\n",
      "Mix         1\n",
      "Name: Electrical, dtype: int64\n",
      "TA    735\n",
      "Gd    586\n",
      "Ex    100\n",
      "Fa     39\n",
      "Name: KitchenQual, dtype: int64\n",
      "Typ     1360\n",
      "Min2      34\n",
      "Min1      31\n",
      "Mod       15\n",
      "Maj1      14\n",
      "Maj2       5\n",
      "Sev        1\n",
      "Name: Functional, dtype: int64\n",
      "0    690\n",
      "1    650\n",
      "2    115\n",
      "3      5\n",
      "Name: Fireplaces, dtype: int64\n",
      "Gd    380\n",
      "TA    313\n",
      "Fa     33\n",
      "Ex     24\n",
      "Po     20\n",
      "Name: FireplaceQu, dtype: int64\n",
      "Attchd     870\n",
      "Detchd     387\n",
      "BuiltIn     88\n",
      "Basment     19\n",
      "CarPort      9\n",
      "2Types       6\n",
      "Name: GarageType, dtype: int64\n",
      "Unf    605\n",
      "RFn    422\n",
      "Fin    352\n",
      "Name: GarageFinish, dtype: int64\n",
      "TA    1311\n",
      "Fa      48\n",
      "Gd      14\n",
      "Ex       3\n",
      "Po       3\n",
      "Name: GarageQual, dtype: int64\n",
      "TA    1326\n",
      "Fa      35\n",
      "Gd       9\n",
      "Po       7\n",
      "Ex       2\n",
      "Name: GarageCond, dtype: int64\n",
      "Y    1340\n",
      "N      90\n",
      "P      30\n",
      "Name: PavedDrive, dtype: int64\n",
      "WD       1267\n",
      "New       122\n",
      "COD        43\n",
      "ConLD       9\n",
      "ConLI       5\n",
      "ConLw       5\n",
      "CWD         4\n",
      "Oth         3\n",
      "Con         2\n",
      "Name: SaleType, dtype: int64\n",
      "Normal     1198\n",
      "Partial     125\n",
      "Abnorml     101\n",
      "Family       20\n",
      "Alloca       12\n",
      "AdjLand       4\n",
      "Name: SaleCondition, dtype: int64\n"
     ]
    }
   ],
   "source": [
    "categVar=['Street','MSZoning','Condition1','Condition2','BldgType','LandContour','LotShape','Utilities','LotConfig','LandSlope','Neighborhood','HouseStyle','RoofStyle','RoofMatl','Exterior1st','Exterior2nd','MasVnrType','ExterQual','ExterCond','Foundation','BsmtQual','BsmtCond','BsmtExposure','BsmtFinType1','BsmtFinType2','Heating','HeatingQC','CentralAir','Electrical','KitchenQual','Functional','Fireplaces','FireplaceQu','GarageType','GarageFinish','GarageQual','GarageCond','PavedDrive','SaleType','SaleCondition']\n",
    "l=[]      \n",
    "for i in categVar :\n",
    "   counts = train_features[i].value_counts()\n",
    "   print(counts)\n",
    "   l.append(counts)\n"
   ]
  },
  {
   "cell_type": "markdown",
   "metadata": {},
   "source": [
    "features having the same value in almost all the samples does not encode discriminant informattion.Thus, they need to be droped."
   ]
  },
  {
   "cell_type": "code",
   "execution_count": 95,
   "metadata": {},
   "outputs": [],
   "source": [
    "# according to the result that we obtained, drop the features  which are the same value in almost all the samples\n",
    "\n",
    "train_features = train_features.drop(['Utilities', 'Street'], axis=1)\n",
    "test_features = test_features.drop(['Utilities', 'Street'], axis=1)\n"
   ]
  },
  {
   "cell_type": "markdown",
   "metadata": {},
   "source": [
    "in the following cell we will replace missing categorical values with the most frequent ones in each column."
   ]
  },
  {
   "cell_type": "code",
   "execution_count": 96,
   "metadata": {},
   "outputs": [],
   "source": [
    "#how to replace nan in categorical variables\n",
    "train_features['MasVnrType'] = train_features['MasVnrType'].fillna('None ')\n",
    "train_features['BsmtQual'] = train_features['BsmtQual'].fillna(\"TA\") \n",
    "train_features['BsmtCond'] = train_features['BsmtCond'].fillna(\"TA\") \n",
    "train_features['BsmtExposure'] = train_features['BsmtExposure'].fillna('No')\n",
    "train_features['BsmtFinType1'] = train_features['BsmtFinType1'].fillna(\"Unf\") \n",
    "train_features['BsmtFinType2'] = train_features['BsmtFinType2'].fillna(\"Unf\") \n",
    "train_features['Electrical'] = train_features['Electrical'].fillna('SBrkr')\n",
    "train_features['FireplaceQu'] = train_features['FireplaceQu'].fillna(\"Gd\") \n",
    "train_features['GarageType'] = train_features['GarageType'].fillna(\"Attchd\") \n",
    "train_features['GarageFinish'] = train_features['GarageFinish'].fillna('Unf')\n",
    "train_features['GarageQual'] = train_features['GarageQual'].fillna(\"TA\") \n",
    "train_features['GarageCond'] = train_features['GarageCond'].fillna(\"TA\") \n",
    "\n",
    "test_features['MasVnrType'] = test_features['MasVnrType'].fillna('None ')\n",
    "test_features['BsmtQual'] = test_features['BsmtQual'].fillna(\"TA\") \n",
    "test_features['BsmtCond'] = test_features['BsmtCond'].fillna(\"TA\") \n",
    "test_features['BsmtExposure'] = test_features['BsmtExposure'].fillna('No')\n",
    "test_features['BsmtFinType1'] = test_features['BsmtFinType1'].fillna(\"Unf\") \n",
    "test_features['BsmtFinType2'] = test_features['BsmtFinType2'].fillna(\"Unf\") \n",
    "test_features['Electrical'] = test_features['Electrical'].fillna('SBrkr')\n",
    "test_features['FireplaceQu'] = test_features['FireplaceQu'].fillna(\"Gd\") \n",
    "test_features['GarageType'] = test_features['GarageType'].fillna(\"Attchd\") \n",
    "test_features['GarageFinish'] = test_features['GarageFinish'].fillna('Unf')\n",
    "test_features['GarageQual'] = test_features['GarageQual'].fillna(\"TA\") \n",
    "test_features['GarageCond'] = test_features['GarageCond'].fillna(\"TA\") \n",
    "test_features['Functional'] = test_features['Functional'].fillna('Typ') \n",
    "test_features['KitchenQual'] = test_features['KitchenQual'].fillna(\"TA\") \n",
    "test_features['MSZoning'] = test_features['MSZoning'].fillna(\"RL\") \n",
    "test_features['Exterior1st'] = test_features['Exterior1st'].fillna(\"VinylSd\") \n",
    "test_features['Exterior2nd'] = test_features['Exterior2nd'].fillna(\"VinylSd\") \n",
    "test_features['SaleType'] = test_features['SaleType'].fillna('WD')\n"
   ]
  },
  {
   "cell_type": "code",
   "execution_count": 12,
   "metadata": {},
   "outputs": [
    {
     "data": {
      "text/plain": [
       "MSSubClass       0\n",
       "MSZoning         0\n",
       "LotFrontage      0\n",
       "LotArea          0\n",
       "Street           0\n",
       "LotShape         0\n",
       "LandContour      0\n",
       "Utilities        0\n",
       "LotConfig        0\n",
       "LandSlope        0\n",
       "Neighborhood     0\n",
       "Condition1       0\n",
       "Condition2       0\n",
       "BldgType         0\n",
       "HouseStyle       0\n",
       "OverallQual      0\n",
       "OverallCond      0\n",
       "YearBuilt        0\n",
       "YearRemodAdd     0\n",
       "RoofStyle        0\n",
       "RoofMatl         0\n",
       "Exterior1st      0\n",
       "Exterior2nd      0\n",
       "MasVnrType       0\n",
       "MasVnrArea       0\n",
       "ExterQual        0\n",
       "ExterCond        0\n",
       "Foundation       0\n",
       "BsmtQual         0\n",
       "BsmtCond         0\n",
       "                ..\n",
       "BsmtFullBath     0\n",
       "BsmtHalfBath     0\n",
       "FullBath         0\n",
       "HalfBath         0\n",
       "BedroomAbvGr     0\n",
       "KitchenAbvGr     0\n",
       "KitchenQual      0\n",
       "TotRmsAbvGrd     0\n",
       "Functional       0\n",
       "Fireplaces       0\n",
       "FireplaceQu      0\n",
       "GarageType       0\n",
       "GarageYrBlt      0\n",
       "GarageFinish     0\n",
       "GarageCars       0\n",
       "GarageArea       0\n",
       "GarageQual       0\n",
       "GarageCond       0\n",
       "PavedDrive       0\n",
       "WoodDeckSF       0\n",
       "OpenPorchSF      0\n",
       "EnclosedPorch    0\n",
       "3SsnPorch        0\n",
       "ScreenPorch      0\n",
       "PoolArea         0\n",
       "MiscVal          0\n",
       "MoSold           0\n",
       "YrSold           0\n",
       "SaleType         0\n",
       "SaleCondition    0\n",
       "Length: 75, dtype: int64"
      ]
     },
     "execution_count": 12,
     "metadata": {},
     "output_type": "execute_result"
    }
   ],
   "source": [
    "train_features.isnull().sum()"
   ]
  },
  {
   "cell_type": "markdown",
   "metadata": {},
   "source": [
    "The data looks now very clean and ready to be used."
   ]
  },
  {
   "cell_type": "markdown",
   "metadata": {},
   "source": [
    "# Doing some visualization"
   ]
  },
  {
   "cell_type": "markdown",
   "metadata": {},
   "source": [
    "##### Let''s visualize the data before engineering features."
   ]
  },
  {
   "cell_type": "code",
   "execution_count": 14,
   "metadata": {},
   "outputs": [
    {
     "data": {
      "image/png": "[encoded data removed]",
      "text/plain": [
       "<Figure size 432x288 with 1 Axes>"
      ]
     },
     "metadata": {
      "needs_background": "light"
     },
     "output_type": "display_data"
    },
    {
     "data": {
      "image/png": "[encoded data removed]",
      "text/plain": [
       "<Figure size 432x288 with 1 Axes>"
      ]
     },
     "metadata": {
      "needs_background": "light"
     },
     "output_type": "display_data"
    },
    {
     "data": {
      "image/png": "[encoded data removed]",
      "text/plain": [
       "<Figure size 432x288 with 1 Axes>"
      ]
     },
     "metadata": {
      "needs_background": "light"
     },
     "output_type": "display_data"
    },
    {
     "data": {
      "image/png": "[encoded data removed]",
      "text/plain": [
       "<Figure size 432x288 with 1 Axes>"
      ]
     },
     "metadata": {
      "needs_background": "light"
     },
     "output_type": "display_data"
    }
   ],
   "source": [
    "#do some data visualization\n",
    "# Scatter plot\n",
    "#Analyse SalePrice/GrLiveArea\n",
    "\n",
    "data = pd.concat([train['SalePrice'], train_features['GrLivArea']], axis = 1)\n",
    "data.plot.scatter(x ='GrLivArea', y= 'SalePrice', ylim = (0,900000)); \n",
    "#Analyse SalePrice/GarageArea\n",
    "\n",
    "data = pd.concat([train['SalePrice'], train_features[\"GarageArea\"]], axis = 1)\n",
    "data.plot.scatter(x =\"GarageArea\", y= 'SalePrice', ylim = (0,900000)); \n",
    "#Analyse SalePrice/YearBuilt\n",
    "\n",
    "data = pd.concat([train['SalePrice'], train_features['YearBuilt']], axis = 1)\n",
    "data.plot.scatter(x ='YearBuilt', y= 'SalePrice', ylim = (0,900000)); \n",
    "#Analyse SalePrice/YearBuilt\n",
    "\n",
    "data = pd.concat([train['SalePrice'], train_features['LotFrontage']], axis = 1)\n",
    "data.plot.scatter(x ='LotFrontage', y= 'SalePrice', ylim = (0,900000)); \n",
    "plt.show()\n",
    " "
   ]
  },
  {
   "cell_type": "markdown",
   "metadata": {},
   "source": [
    "Here we can visualize the correlation between our features.In this case  SalePrice and GrlivArea have strong correlation.SalePrice and lotFrontage   have weak correlation."
   ]
  },
  {
   "cell_type": "markdown",
   "metadata": {},
   "source": [
    "###### In the next cell we will display the correlation matrix."
   ]
  },
  {
   "cell_type": "code",
   "execution_count": 30,
   "metadata": {},
   "outputs": [
    {
     "data": {
      "image/png": "[encoded data removed]",
      "text/plain": [
       "<Figure size 432x288 with 2 Axes>"
      ]
     },
     "metadata": {},
     "output_type": "display_data"
    }
   ],
   "source": [
    "# correlation matrix \n",
    "corrmat = train.corr()\n",
    "k = 8\n",
    "cols = corrmat.nlargest(k, 'SalePrice')['SalePrice'].index\n",
    "cm = np.corrcoef(train[cols].values.T)\n",
    "sns.set(font_scale=1.25)\n",
    "hm = sns.heatmap(cm, cbar=True, annot=True, square=True, fmt='.2f', annot_kws={'size': 10}, yticklabels=cols.values, xticklabels=cols.values)\n",
    "plt.show()"
   ]
  },
  {
   "cell_type": "markdown",
   "metadata": {},
   "source": [
    "Here we see correlation between features."
   ]
  },
  {
   "cell_type": "markdown",
   "metadata": {},
   "source": [
    "# Generating new features"
   ]
  },
  {
   "cell_type": "markdown",
   "metadata": {},
   "source": [
    "In the features we have year of built ,year of sold and year of remodel.We propose adding new features:age and ageremodAdd(age of remodel)\n",
    "\n",
    "In the features  poolArea and garageArea .We propose adding new boolean features: hasPool and hasGarage.\n"
   ]
  },
  {
   "cell_type": "code",
   "execution_count": 97,
   "metadata": {},
   "outputs": [],
   "source": [
    "#creating new numerical feature\n",
    "train_features['ageremodAdd']=train_features['YrSold']-train_features['YearRemodAdd']\n",
    "train_features['age']=train_features['YrSold']-train_features['YearBuilt']\n",
    "test_features['ageremodAdd']=test_features['YrSold']-test_features['YearRemodAdd']\n",
    "test_features['age']=test_features['YrSold']-test_features['YearBuilt']\n",
    "#creating  categorical features\n",
    "train_features['haspool'] = train_features['PoolArea'].apply(lambda x: 1 if x > 0 else 0)\n",
    "test_features['haspool'] = test_features['PoolArea'].apply(lambda x: 1 if x > 0 else 0)\n",
    "train_features['hasgarage'] = train_features['GarageArea'].apply(lambda x: 1 if x > 0 else 0)\n",
    "test_features['hasgarage'] = test_features['GarageArea'].apply(lambda x: 1 if x > 0 else 0)"
   ]
  },
  {
   "cell_type": "markdown",
   "metadata": {},
   "source": [
    "##### One hot encoding\n",
    "Our data is clean some of our features are categorical.So, they need to be converted to numerical.We propose using the One Hot Encoding method.here we see how it works."
   ]
  },
  {
   "cell_type": "code",
   "execution_count": 98,
   "metadata": {},
   "outputs": [
    {
     "name": "stdout",
     "output_type": "stream",
     "text": [
      "(2919, 276)\n"
     ]
    },
    {
     "data": {
      "text/html": [
       "<div>\n",
       "<style scoped>\n",
       "    .dataframe tbody tr th:only-of-type {\n",
       "        vertical-align: middle;\n",
       "    }\n",
       "\n",
       "    .dataframe tbody tr th {\n",
       "        vertical-align: top;\n",
       "    }\n",
       "\n",
       "    .dataframe thead th {\n",
       "        text-align: right;\n",
       "    }\n",
       "</style>\n",
       "<table border=\"1\" class=\"dataframe\">\n",
       "  <thead>\n",
       "    <tr style=\"text-align: right;\">\n",
       "      <th></th>\n",
       "      <th>MSSubClass</th>\n",
       "      <th>LotFrontage</th>\n",
       "      <th>LotArea</th>\n",
       "      <th>OverallQual</th>\n",
       "      <th>OverallCond</th>\n",
       "      <th>YearBuilt</th>\n",
       "      <th>YearRemodAdd</th>\n",
       "      <th>MasVnrArea</th>\n",
       "      <th>BsmtFinSF1</th>\n",
       "      <th>BsmtFinSF2</th>\n",
       "      <th>...</th>\n",
       "      <th>SaleType_ConLw</th>\n",
       "      <th>SaleType_New</th>\n",
       "      <th>SaleType_Oth</th>\n",
       "      <th>SaleType_WD</th>\n",
       "      <th>SaleCondition_Abnorml</th>\n",
       "      <th>SaleCondition_AdjLand</th>\n",
       "      <th>SaleCondition_Alloca</th>\n",
       "      <th>SaleCondition_Family</th>\n",
       "      <th>SaleCondition_Normal</th>\n",
       "      <th>SaleCondition_Partial</th>\n",
       "    </tr>\n",
       "  </thead>\n",
       "  <tbody>\n",
       "    <tr>\n",
       "      <th>0</th>\n",
       "      <td>60</td>\n",
       "      <td>65.0</td>\n",
       "      <td>8450</td>\n",
       "      <td>7</td>\n",
       "      <td>5</td>\n",
       "      <td>2003</td>\n",
       "      <td>2003</td>\n",
       "      <td>196.0</td>\n",
       "      <td>706.0</td>\n",
       "      <td>0.0</td>\n",
       "      <td>...</td>\n",
       "      <td>0</td>\n",
       "      <td>0</td>\n",
       "      <td>0</td>\n",
       "      <td>1</td>\n",
       "      <td>0</td>\n",
       "      <td>0</td>\n",
       "      <td>0</td>\n",
       "      <td>0</td>\n",
       "      <td>1</td>\n",
       "      <td>0</td>\n",
       "    </tr>\n",
       "    <tr>\n",
       "      <th>1</th>\n",
       "      <td>20</td>\n",
       "      <td>80.0</td>\n",
       "      <td>9600</td>\n",
       "      <td>6</td>\n",
       "      <td>8</td>\n",
       "      <td>1976</td>\n",
       "      <td>1976</td>\n",
       "      <td>0.0</td>\n",
       "      <td>978.0</td>\n",
       "      <td>0.0</td>\n",
       "      <td>...</td>\n",
       "      <td>0</td>\n",
       "      <td>0</td>\n",
       "      <td>0</td>\n",
       "      <td>1</td>\n",
       "      <td>0</td>\n",
       "      <td>0</td>\n",
       "      <td>0</td>\n",
       "      <td>0</td>\n",
       "      <td>1</td>\n",
       "      <td>0</td>\n",
       "    </tr>\n",
       "    <tr>\n",
       "      <th>2</th>\n",
       "      <td>60</td>\n",
       "      <td>68.0</td>\n",
       "      <td>11250</td>\n",
       "      <td>7</td>\n",
       "      <td>5</td>\n",
       "      <td>2001</td>\n",
       "      <td>2002</td>\n",
       "      <td>162.0</td>\n",
       "      <td>486.0</td>\n",
       "      <td>0.0</td>\n",
       "      <td>...</td>\n",
       "      <td>0</td>\n",
       "      <td>0</td>\n",
       "      <td>0</td>\n",
       "      <td>1</td>\n",
       "      <td>0</td>\n",
       "      <td>0</td>\n",
       "      <td>0</td>\n",
       "      <td>0</td>\n",
       "      <td>1</td>\n",
       "      <td>0</td>\n",
       "    </tr>\n",
       "    <tr>\n",
       "      <th>3</th>\n",
       "      <td>70</td>\n",
       "      <td>60.0</td>\n",
       "      <td>9550</td>\n",
       "      <td>7</td>\n",
       "      <td>5</td>\n",
       "      <td>1915</td>\n",
       "      <td>1970</td>\n",
       "      <td>0.0</td>\n",
       "      <td>216.0</td>\n",
       "      <td>0.0</td>\n",
       "      <td>...</td>\n",
       "      <td>0</td>\n",
       "      <td>0</td>\n",
       "      <td>0</td>\n",
       "      <td>1</td>\n",
       "      <td>1</td>\n",
       "      <td>0</td>\n",
       "      <td>0</td>\n",
       "      <td>0</td>\n",
       "      <td>0</td>\n",
       "      <td>0</td>\n",
       "    </tr>\n",
       "    <tr>\n",
       "      <th>4</th>\n",
       "      <td>60</td>\n",
       "      <td>84.0</td>\n",
       "      <td>14260</td>\n",
       "      <td>8</td>\n",
       "      <td>5</td>\n",
       "      <td>2000</td>\n",
       "      <td>2000</td>\n",
       "      <td>350.0</td>\n",
       "      <td>655.0</td>\n",
       "      <td>0.0</td>\n",
       "      <td>...</td>\n",
       "      <td>0</td>\n",
       "      <td>0</td>\n",
       "      <td>0</td>\n",
       "      <td>1</td>\n",
       "      <td>0</td>\n",
       "      <td>0</td>\n",
       "      <td>0</td>\n",
       "      <td>0</td>\n",
       "      <td>1</td>\n",
       "      <td>0</td>\n",
       "    </tr>\n",
       "  </tbody>\n",
       "</table>\n",
       "<p>5 rows × 276 columns</p>\n",
       "</div>"
      ],
      "text/plain": [
       "   MSSubClass  LotFrontage  LotArea  OverallQual  OverallCond  YearBuilt  \\\n",
       "0          60         65.0     8450            7            5       2003   \n",
       "1          20         80.0     9600            6            8       1976   \n",
       "2          60         68.0    11250            7            5       2001   \n",
       "3          70         60.0     9550            7            5       1915   \n",
       "4          60         84.0    14260            8            5       2000   \n",
       "\n",
       "   YearRemodAdd  MasVnrArea  BsmtFinSF1  BsmtFinSF2          ...            \\\n",
       "0          2003       196.0       706.0         0.0          ...             \n",
       "1          1976         0.0       978.0         0.0          ...             \n",
       "2          2002       162.0       486.0         0.0          ...             \n",
       "3          1970         0.0       216.0         0.0          ...             \n",
       "4          2000       350.0       655.0         0.0          ...             \n",
       "\n",
       "   SaleType_ConLw  SaleType_New  SaleType_Oth  SaleType_WD  \\\n",
       "0               0             0             0            1   \n",
       "1               0             0             0            1   \n",
       "2               0             0             0            1   \n",
       "3               0             0             0            1   \n",
       "4               0             0             0            1   \n",
       "\n",
       "   SaleCondition_Abnorml  SaleCondition_AdjLand  SaleCondition_Alloca  \\\n",
       "0                      0                      0                     0   \n",
       "1                      0                      0                     0   \n",
       "2                      0                      0                     0   \n",
       "3                      1                      0                     0   \n",
       "4                      0                      0                     0   \n",
       "\n",
       "   SaleCondition_Family  SaleCondition_Normal  SaleCondition_Partial  \n",
       "0                     0                     1                      0  \n",
       "1                     0                     1                      0  \n",
       "2                     0                     1                      0  \n",
       "3                     0                     0                      0  \n",
       "4                     0                     1                      0  \n",
       "\n",
       "[5 rows x 276 columns]"
      ]
     },
     "execution_count": 98,
     "metadata": {},
     "output_type": "execute_result"
    }
   ],
   "source": [
    "#transform categoric to numerical\n",
    "features = pd.concat([train_features, test_features]).reset_index(drop=True)\n",
    "features= pd.get_dummies(features).reset_index(drop=True)\n",
    "print(features.shape)\n",
    "features.head()"
   ]
  },
  {
   "cell_type": "markdown",
   "metadata": {},
   "source": [
    "The one hot encoding method creates one boolean column for each category. In other words.Thus the size of our data increases from 84 to 276."
   ]
  },
  {
   "cell_type": "markdown",
   "metadata": {},
   "source": [
    "# Processing correlated data and non-useful features"
   ]
  },
  {
   "cell_type": "markdown",
   "metadata": {},
   "source": [
    " As we know,I am trying to build a Regression model and here I am going check thecorrelation between features and target variable(SalePrice).i will  drop all the features that are weakly correlated to the target,threshold(0.3)."
   ]
  },
  {
   "cell_type": "code",
   "execution_count": 99,
   "metadata": {},
   "outputs": [
    {
     "name": "stdout",
     "output_type": "stream",
     "text": [
      "MSSubClass -0.08428413512659519\n",
      "LotArea 0.26384335387140556\n",
      "OverallCond -0.077855894048678\n",
      "BsmtFinSF2 -0.011378121450215144\n",
      "BsmtUnfSF 0.2144791055469689\n",
      "LowQualFinSF -0.025606130000679555\n",
      "BsmtFullBath 0.22712223313149424\n",
      "BsmtHalfBath -0.016844154297359002\n",
      "HalfBath 0.2841076755947825\n",
      "BedroomAbvGr 0.16821315430074002\n",
      "KitchenAbvGr -0.1359073708421412\n",
      "EnclosedPorch -0.12857795792595678\n",
      "3SsnPorch 0.044583665335748396\n",
      "ScreenPorch 0.11144657114291122\n",
      "PoolArea 0.09240354949187321\n",
      "MiscVal -0.02118957964030325\n",
      "MoSold 0.04643224522381935\n",
      "YrSold -0.02892258516873034\n",
      "haspool 0.09370812512551796\n",
      "hasgarage 0.23683171182004328\n",
      "MSZoning_C (all) -0.11125658290808617\n",
      "MSZoning_FV 0.08994971967036078\n",
      "MSZoning_RH -0.06542929310102476\n",
      "MSZoning_RL 0.24506340389709316\n",
      "MSZoning_RM -0.2880651218971256\n",
      "LotShape_IR1 0.22328392470490185\n",
      "LotShape_IR2 0.1260960882032549\n",
      "LotShape_IR3 0.036720475499535825\n",
      "LotShape_Reg -0.26767176028879397\n",
      "LandContour_Bnk -0.1011244906045863\n",
      "LandContour_HLS 0.12001380186770791\n",
      "LandContour_Low 0.045528250327495155\n",
      "LandContour_Lvl -0.027544579330838603\n",
      "LotConfig_Corner 0.00414482329407249\n",
      "LotConfig_CulDSac 0.14181753652525778\n",
      "LotConfig_FR2 -0.006858890782775993\n",
      "LotConfig_FR3 0.018185562475503327\n",
      "LotConfig_Inside -0.08053786914590574\n",
      "LandSlope_Gtl -0.05111614933705131\n",
      "LandSlope_Mod 0.042981159944370725\n",
      "LandSlope_Sev 0.027997864142057547\n",
      "Neighborhood_Blmngtn 0.019065649513505423\n",
      "Neighborhood_Blueste -0.02025041276298236\n",
      "Neighborhood_BrDale -0.10130283618166981\n",
      "Neighborhood_BrkSide -0.14364786671580407\n",
      "Neighborhood_ClearCr 0.055718310532911146\n",
      "Neighborhood_CollgCr 0.07262599312707751\n",
      "Neighborhood_Crawfor 0.0711596025266482\n",
      "Neighborhood_Edwards -0.17994896448338468\n",
      "Neighborhood_Gilbert 0.035939622294684025\n",
      "Neighborhood_IDOTRR -0.16405585189091743\n",
      "Neighborhood_MeadowV -0.11254415474599871\n",
      "Neighborhood_Mitchel -0.05784505418676352\n",
      "Neighborhood_NAmes -0.1885125969979696\n",
      "Neighborhood_NPkVill -0.03790973990404996\n",
      "Neighborhood_NWAmes 0.02348277302025519\n",
      "Neighborhood_OldTown -0.19218879886097243\n",
      "Neighborhood_SWISU -0.06370549244437913\n",
      "Neighborhood_Sawyer -0.12839406550544374\n",
      "Neighborhood_SawyerW 0.014560153318488691\n",
      "Neighborhood_Somerst 0.14005799634362526\n",
      "Neighborhood_StoneBr 0.21536272276938676\n",
      "Neighborhood_Timber 0.1262363076697129\n",
      "Neighborhood_Veenker 0.06347063934055384\n",
      "Condition1_Artery -0.10640071096805306\n",
      "Condition1_Feedr -0.1173286774856814\n",
      "Condition1_Norm 0.11296832108736445\n",
      "Condition1_PosA 0.04201689908541704\n",
      "Condition1_PosN 0.04954116844794388\n",
      "Condition1_RRAe -0.04665127135276286\n",
      "Condition1_RRAn 0.005892711711544381\n",
      "Condition1_RRNe 0.004583875135268452\n",
      "Condition1_RRNn 0.02323633312450891\n",
      "Condition2_Artery -0.034707932478396\n",
      "Condition2_Feedr -0.048334821003572906\n",
      "Condition2_Norm 0.030676288435637356\n",
      "Condition2_PosA 0.0474972332814434\n",
      "Condition2_PosN 0.04848110233569768\n",
      "Condition2_RRAe 0.0029929320927850377\n",
      "Condition2_RRAn -0.014510444733969157\n",
      "Condition2_RRNn -0.03925505561469544\n",
      "BldgType_1Fam 0.1374832486951526\n",
      "BldgType_2fmCon -0.09734830194128402\n",
      "BldgType_Duplex -0.11465483002228435\n",
      "BldgType_Twnhs -0.09873019861048875\n",
      "BldgType_TwnhsE 0.003804383453308892\n",
      "HouseStyle_1.5Fin -0.16346607100995544\n",
      "HouseStyle_1.5Unf -0.08768640584636467\n",
      "HouseStyle_1Story -0.06181110053588821\n",
      "HouseStyle_2.5Fin 0.03652572237598769\n",
      "HouseStyle_2.5Unf -0.02585567459562444\n",
      "HouseStyle_2Story 0.24288002726854288\n",
      "HouseStyle_SFoyer -0.09308987468225169\n",
      "HouseStyle_SLvl -0.03864543349361015\n",
      "RoofStyle_Flat 0.01643347828794225\n",
      "RoofStyle_Gable -0.224744116213091\n",
      "RoofStyle_Gambrel -0.03512143449364918\n",
      "RoofStyle_Hip 0.2358969186646027\n",
      "RoofStyle_Mansard -0.0003083190938173045\n",
      "RoofStyle_Shed 0.020557102562781877\n",
      "RoofMatl_ClyTile -0.006896912615805715\n",
      "RoofMatl_CompShg -0.10450516998583911\n",
      "RoofMatl_Membran 0.019970498842532478\n",
      "RoofMatl_Metal -0.0003036828100785455\n",
      "RoofMatl_Roll -0.014479126892391959\n",
      "RoofMatl_Tar&Grv 0.004920811214208674\n",
      "RoofMatl_WdShake 0.04464291700440574\n",
      "RoofMatl_WdShngl 0.1693239058020809\n",
      "Exterior1st_AsbShng -0.10912582164200844\n",
      "Exterior1st_AsphShn -0.026676602032987204\n",
      "Exterior1st_BrkComm -0.05126412441056322\n",
      "Exterior1st_BrkFace 0.03237139069159006\n",
      "Exterior1st_CBlock -0.02502829458155542\n",
      "Exterior1st_CemntBd 0.13349176235033494\n",
      "Exterior1st_HdBoard -0.09514764583955214\n",
      "Exterior1st_ImStucc 0.02672855939340283\n",
      "Exterior1st_MetalSd -0.16706804265413433\n",
      "Exterior1st_Plywood -0.01771925649284013\n",
      "Exterior1st_Stone 0.036180551287503034\n",
      "Exterior1st_Stucco -0.029802258156837888\n",
      "Exterior1st_Wd Sdng -0.15861908165107297\n",
      "Exterior1st_WdShing -0.05131740614311984\n",
      "Exterior2nd_AsbShng -0.09922021939101372\n",
      "Exterior2nd_AsphShn -0.024524407793441214\n",
      "Exterior2nd_Brk Cmn -0.04737690972154165\n",
      "Exterior2nd_BrkFace 0.024758995691036477\n",
      "Exterior2nd_CBlock -0.02502829458155542\n",
      "Exterior2nd_CmentBd 0.12818316002692445\n",
      "Exterior2nd_HdBoard -0.06786360534380848\n",
      "Exterior2nd_ImStucc 0.07440111895297538\n",
      "Exterior2nd_MetalSd -0.1623886705844277\n",
      "Exterior2nd_Other 0.045519264339725266\n",
      "Exterior2nd_Plywood -0.05294086897596906\n",
      "Exterior2nd_Stone -0.016753527668945774\n",
      "Exterior2nd_Stucco -0.04241569231469862\n",
      "Exterior2nd_Wd Sdng -0.1618004951731795\n",
      "Exterior2nd_Wd Shng -0.0403294356455202\n",
      "MasVnrType_BrkCmn -0.04439386368054749\n",
      "MasVnrType_BrkFace 0.1981912062006385\n",
      "MasVnrType_None  0.05193302955427039\n",
      "ExterQual_Fa -0.1151488553809203\n",
      "ExterCond_Ex 0.011663132217102003\n",
      "ExterCond_Fa -0.13791439943313413\n",
      "ExterCond_Gd -0.05046730552645482\n",
      "ExterCond_Po -0.03442364705471662\n",
      "ExterCond_TA 0.10522203398149307\n",
      "Foundation_BrkTil -0.20411736578270095\n",
      "Foundation_Slab -0.11974016023647917\n",
      "Foundation_Stone -0.012102630775853199\n",
      "Foundation_Wood 0.0027114775829150044\n",
      "BsmtQual_Fa -0.1287254112936623\n",
      "BsmtQual_Gd 0.23482172845401955\n",
      "BsmtCond_Fa -0.13273855172329815\n",
      "BsmtCond_Gd 0.08882400808170197\n",
      "BsmtCond_Po -0.054528725636624344\n",
      "BsmtCond_TA 0.024945495441959203\n",
      "BsmtExposure_Av 0.13679331642095177\n",
      "BsmtExposure_Mn 0.0434930839408888\n",
      "BsmtFinType1_ALQ -0.10262077890522289\n",
      "BsmtFinType1_BLQ -0.13291383782570182\n",
      "BsmtFinType1_LwQ -0.08457706852755692\n",
      "BsmtFinType1_Rec -0.13566662734333565\n",
      "BsmtFinType1_Unf -0.13300083026731044\n",
      "BsmtFinType2_ALQ 0.041961566284396554\n",
      "BsmtFinType2_BLQ -0.05710200253165683\n",
      "BsmtFinType2_GLQ 7.551406179760082e-05\n",
      "BsmtFinType2_LwQ -0.037603947731137205\n",
      "BsmtFinType2_Rec -0.03949393653165594\n",
      "BsmtFinType2_Unf 0.05590471088216825\n",
      "Heating_Floor -0.03574229301586207\n",
      "Heating_GasA 0.09252891316304215\n",
      "Heating_GasW -0.020102599035433294\n",
      "Heating_Grav -0.0923380335110459\n",
      "Heating_OthW -0.025730279106727844\n",
      "Heating_Wall -0.05862215614909806\n",
      "HeatingQC_Fa -0.1337575333426306\n",
      "HeatingQC_Gd -0.13472249330663497\n",
      "HeatingQC_Po -0.03096220140670986\n",
      "CentralAir_N -0.25132816384015494\n",
      "CentralAir_Y 0.25132816384015505\n",
      "Electrical_FuseA -0.19397792356662374\n",
      "Electrical_FuseF -0.1266009863576842\n",
      "Electrical_FuseP -0.04776061769494788\n",
      "Electrical_Mix -0.037555431212437033\n",
      "Electrical_SBrkr 0.2423570216642078\n",
      "KitchenQual_Fa -0.15719868628269495\n",
      "Functional_Maj1 -0.033419953491433514\n",
      "Functional_Maj2 -0.07021447788221304\n",
      "Functional_Min1 -0.06405145656743293\n",
      "Functional_Min2 -0.07132000820499204\n",
      "Functional_Mod -0.0160725412713804\n",
      "Functional_Sev -0.017116418814682823\n",
      "Functional_Typ 0.11646204021800417\n",
      "FireplaceQu_Ex 0.2552385312288595\n",
      "FireplaceQu_Fa -0.026085813898165312\n",
      "FireplaceQu_Gd -0.19596812492707066\n",
      "FireplaceQu_Po -0.0759163069552503\n",
      "FireplaceQu_TA 0.1631466482099517\n",
      "GarageType_2Types -0.023973760654374017\n",
      "GarageType_Attchd 0.2321924572542387\n",
      "GarageType_Basment -0.029424968522136875\n",
      "GarageType_BuiltIn 0.23544865016730793\n",
      "GarageType_CarPort -0.07037062648692652\n",
      "GarageFinish_RFn 0.16979152720952223\n",
      "GarageQual_Ex 0.034327959907915935\n",
      "GarageQual_Fa -0.13314234807213335\n",
      "GarageQual_Gd 0.0432905047249909\n",
      "GarageQual_Po -0.04614170143131833\n",
      "GarageQual_TA 0.09518121970352984\n",
      "GarageCond_Ex -0.02654642941324314\n",
      "GarageCond_Fa -0.1307738350650315\n",
      "GarageCond_Gd -0.0009829759782898622\n",
      "GarageCond_Po -0.06329621903329337\n",
      "GarageCond_TA 0.13598620043305687\n",
      "PavedDrive_N -0.21262978253141077\n",
      "PavedDrive_P -0.08862292093317295\n",
      "PavedDrive_Y 0.23196803451042192\n",
      "SaleType_COD -0.08104671129791083\n",
      "SaleType_CWD 0.019588066467574456\n",
      "SaleType_Con 0.041357276088828575\n",
      "SaleType_ConLD -0.04179084064107884\n",
      "SaleType_ConLI 0.014371054765972334\n",
      "SaleType_ConLw -0.02747512592890182\n",
      "SaleType_Oth -0.0348949949175153\n",
      "SaleType_WD -0.24259751727295034\n",
      "SaleCondition_Abnorml -0.11806923061460232\n",
      "SaleCondition_AdjLand -0.05068563355867204\n",
      "SaleCondition_Alloca -0.01552537401541983\n",
      "SaleCondition_Family -0.04648019603234482\n",
      "SaleCondition_Normal -0.1539897904853657\n"
     ]
    }
   ],
   "source": [
    "#calculate the coreelation between features and target variables \n",
    "d={}\n",
    "for i in(features):\n",
    "   j=features[i].corr(train[target])\n",
    "   if abs(j)<0.3:\n",
    "    features = features.drop([i], axis=1)\n",
    "    print(i,j)\n",
    "    d[i]=j"
   ]
  },
  {
   "cell_type": "markdown",
   "metadata": {},
   "source": [
    "Here,we see correlation between features."
   ]
  },
  {
   "cell_type": "code",
   "execution_count": 19,
   "metadata": {},
   "outputs": [
    {
     "data": {
      "text/plain": [
       "<matplotlib.axes._subplots.AxesSubplot at 0xb674a20>"
      ]
     },
     "execution_count": 19,
     "metadata": {},
     "output_type": "execute_result"
    },
    {
     "data": {
      "image/png": "[encoded data removed]",
      "text/plain": [
       "<Figure size 432x288 with 2 Axes>"
      ]
     },
     "metadata": {
      "needs_background": "light"
     },
     "output_type": "display_data"
    }
   ],
   "source": [
    "corr = features.corr()\n",
    "sns.heatmap(corr)"
   ]
  },
  {
   "cell_type": "markdown",
   "metadata": {},
   "source": [
    "Now we use PCA to reduce the dimensionality of our data.\n"
   ]
  },
  {
   "cell_type": "code",
   "execution_count": 100,
   "metadata": {},
   "outputs": [],
   "source": [
    "#applying pca   \n",
    "pca = PCA(n_components=44)\n",
    "pca.fit(features)\n",
    "features= pca.transform(features)\n"
   ]
  },
  {
   "cell_type": "code",
   "execution_count": 21,
   "metadata": {},
   "outputs": [
    {
     "data": {
      "image/png": "[encoded data removed]",
      "text/plain": [
       "<Figure size 432x288 with 1 Axes>"
      ]
     },
     "metadata": {
      "needs_background": "light"
     },
     "output_type": "display_data"
    },
    {
     "data": {
      "image/png": "[encoded data removed]",
      "text/plain": [
       "<Figure size 432x288 with 1 Axes>"
      ]
     },
     "metadata": {
      "needs_background": "light"
     },
     "output_type": "display_data"
    }
   ],
   "source": [
    "#plot the cumulative explained variance according to the number of components\n",
    "plt.subplot(1,2,1)\n",
    "plt.xlim(0,10)\n",
    "plt.plot(np.cumsum(pca.explained_variance_ratio_))\n",
    "plt.xlabel('number of components')\n",
    "plt.ylabel('cumulative explained variance');\n",
    "plt.show()\n",
    "plt.subplot(1,2,2)\n",
    "plt.xlim(10,44)\n",
    "plt.plot(np.cumsum(pca.explained_variance_ratio_))\n",
    "plt.xlabel('number of components')\n",
    "plt.ylabel('cumulative explained variance');\n",
    "plt.show()\n"
   ]
  },
  {
   "cell_type": "markdown",
   "metadata": {},
   "source": [
    "The graph shows the cumulative explained variance  by the number of components,The cumulative explained variance increases sharply if the number of components is between 0 and 10.Otherwise,it remained steady.The optimal value is n_components=44."
   ]
  },
  {
   "cell_type": "markdown",
   "metadata": {},
   "source": [
    "##### Applying Maxminscaler  to transform features by scaling each feature between 0 and 1"
   ]
  },
  {
   "cell_type": "code",
   "execution_count": 101,
   "metadata": {},
   "outputs": [],
   "source": [
    "#applying Maxminscaler to normalize the data\n",
    "scaler = MinMaxScaler()\n",
    "scaler.fit(features)\n",
    "features=scaler.transform(features) "
   ]
  },
  {
   "cell_type": "markdown",
   "metadata": {},
   "source": [
    "##### After All preprocessing is done we separate the train features and the test features again"
   ]
  },
  {
   "cell_type": "code",
   "execution_count": 102,
   "metadata": {},
   "outputs": [],
   "source": [
    "#separtae the train features and test features\n",
    "features=pd.DataFrame(features)\n",
    "train_features= features.iloc[:len(train[target]), :]\n",
    "test_features=features.iloc[len(train[target]):, :]\n"
   ]
  },
  {
   "cell_type": "markdown",
   "metadata": {},
   "source": [
    "##### Now we can train!"
   ]
  },
  {
   "cell_type": "markdown",
   "metadata": {},
   "source": [
    "# Building Linear model,training it and doing predictions on the test features"
   ]
  },
  {
   "cell_type": "code",
   "execution_count": 103,
   "metadata": {},
   "outputs": [],
   "source": [
    "# apllying the linear classifier\n",
    "from sklearn.linear_model import LinearRegression\n",
    "reg=LinearRegression()# Create linear regression object\n",
    "reg =reg.fit(train_features, train[target])# Train the model using the training sets\n",
    "predictions=reg.predict(test_features)# Make predictions using the testing set\n",
    "\n"
   ]
  },
  {
   "cell_type": "markdown",
   "metadata": {},
   "source": [
    "# Submission file"
   ]
  },
  {
   "cell_type": "code",
   "execution_count": 104,
   "metadata": {},
   "outputs": [
    {
     "name": "stdout",
     "output_type": "stream",
     "text": [
      "     Id      SalePrice\n",
      "0  1461  111406.640972\n",
      "1  1462  147830.630124\n",
      "2  1463  171500.563077\n",
      "3  1464  188334.497364\n",
      "4  1465  190189.761227\n",
      "Saved file: house pricing12.csv\n"
     ]
    }
   ],
   "source": [
    "#my sumission predective targets for test set\n",
    "submission = pd.DataFrame({'Id':test['Id'],'SalePrice':predictions})\n",
    "#Visualize the first 5 rows\n",
    "print(submission.head())\n",
    "filename = 'house pricing1.csv'\n",
    "submission.to_csv(filename,index=False)\n",
    "print('Saved file: ' + filename)"
   ]
  },
  {
   "cell_type": "markdown",
   "metadata": {},
   "source": [
    "# Interpretation\n"
   ]
  },
  {
   "cell_type": "code",
   "execution_count": 105,
   "metadata": {},
   "outputs": [
    {
     "data": {
      "text/plain": [
       "0.8425567385523395"
      ]
     },
     "execution_count": 105,
     "metadata": {},
     "output_type": "execute_result"
    }
   ],
   "source": [
    "# print the R-squared value for the model\n",
    "reg.score(train_features, train['SalePrice'])"
   ]
  },
  {
   "cell_type": "markdown",
   "metadata": {},
   "source": [
    "R-squared is a statistical measures how close the data is to the fitted regression line.R-squared is ratio between the explained variance and the total variance.\n",
    "\n",
    "Or: R-squared = Explained variation / Total variation \n",
    "\n",
    "R-squared is always between 0 and 1: \n",
    "\n",
    "0 indicates that the model explains none of the variability of the response data around its mean. \n",
    "\n",
    "1 indicates that the model explains all the variability of the response data around its mean. \n",
    "\n",
    "In general, the higher the R-squared, the better the model fits your data. However, selecting the model with the highest R-squared is not a reliable approach.\n",
    "\n",
    "In this case it's equal to 0.84."
   ]
  },
  {
   "cell_type": "code",
   "execution_count": 106,
   "metadata": {},
   "outputs": [
    {
     "name": "stdout",
     "output_type": "stream",
     "text": [
      "-47021.95372966479\n"
     ]
    },
    {
     "data": {
      "text/plain": [
       "[(0, 932528.6409628374),\n",
       " (1, 80719.02748281806),\n",
       " (2, -3082.9317544468154),\n",
       " (3, -118915.03611050054),\n",
       " (4, 161275.7162246848),\n",
       " (5, 14949.323849181064),\n",
       " (6, 74734.48938743709),\n",
       " (7, 58320.49815549612),\n",
       " (8, -120722.66629786223),\n",
       " (9, 14357.239237179963),\n",
       " (10, 32645.80749347417),\n",
       " (11, 23795.827453342157),\n",
       " (12, -44572.28478482034),\n",
       " (13, -1634.373271333811),\n",
       " (14, -113907.43643766576),\n",
       " (15, -145778.8764280904),\n",
       " (16, -25224.830907615677),\n",
       " (17, 14498.760754539533),\n",
       " (18, -31227.91682060572),\n",
       " (19, 22407.7199388921),\n",
       " (20, -5862.311626195488),\n",
       " (21, 5343.348481822876),\n",
       " (22, 35176.808443053065),\n",
       " (23, 45039.77376894994),\n",
       " (24, 26847.54525927953),\n",
       " (25, 14330.905031861537),\n",
       " (26, 8342.935269174166),\n",
       " (27, 36237.52352855453),\n",
       " (28, 26356.538550505727),\n",
       " (29, -4442.5578466935),\n",
       " (30, 54398.45045303291),\n",
       " (31, 47106.94962258372),\n",
       " (32, -10340.642540815805),\n",
       " (33, -5017.148759258448),\n",
       " (34, 15115.172533467705),\n",
       " (35, -5935.606405114553),\n",
       " (36, 20191.583360594454),\n",
       " (37, -15609.014651183725),\n",
       " (38, -13600.777826372394),\n",
       " (39, -13290.314592951669),\n",
       " (40, 77811.14216381939),\n",
       " (41, -18408.759708163525),\n",
       " (42, -14806.676691380702),\n",
       " (43, -16499.997325089018)]"
      ]
     },
     "execution_count": 106,
     "metadata": {},
     "output_type": "execute_result"
    }
   ],
   "source": [
    "# print the coefficients\n",
    "print(reg.intercept_)\n",
    "list(zip(train_features, reg.coef_))"
   ]
  },
  {
   "cell_type": "markdown",
   "metadata": {},
   "source": [
    "high coefficients in absolute value correspond to more important features."
   ]
  },
  {
   "cell_type": "markdown",
   "metadata": {},
   "source": [
    "# Conclusion"
   ]
  },
  {
   "cell_type": "markdown",
   "metadata": {},
   "source": [
    "Linear regression is an extremely simple method. It is very easy and intuitive to use and to understand.Moreover,linear interpretable model.This makes it very favorable in machine learning comunity.It gives us a very explicit model.But in general,  other model 'non linear model' may give more accurate result."
   ]
  },
  {
   "cell_type": "markdown",
   "metadata": {},
   "source": [
    "# Thank you for your time."
   ]
  }
 ],
 "metadata": {
  "kernelspec": {
   "display_name": "Python 3",
   "language": "python",
   "name": "python3"
  },
  "language_info": {
   "codemirror_mode": {
    "name": "ipython",
    "version": 3
   },
   "file_extension": ".py",
   "mimetype": "text/x-python",
   "name": "python",
   "nbconvert_exporter": "python",
   "pygments_lexer": "ipython3",
   "version": "3.7.1"
  }
 },
 "nbformat": 4,
 "nbformat_minor": 2
}
